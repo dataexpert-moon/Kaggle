{
 "cells": [
  {
   "cell_type": "code",
   "execution_count": 190,
   "metadata": {},
   "outputs": [],
   "source": [
    "# 넷플릭스 2021년 나라별 가격 비교(한국을 기준으로)"
   ]
  },
  {
   "cell_type": "code",
   "execution_count": 191,
   "metadata": {},
   "outputs": [],
   "source": [
    "import numpy as np\n",
    "import pandas as pd\n",
    "import matplotlib.pyplot as plt\n",
    "%matplotlib inline\n",
    "import seaborn as sns"
   ]
  },
  {
   "cell_type": "code",
   "execution_count": 192,
   "metadata": {},
   "outputs": [
    {
     "data": {
      "text/html": [
       "<div>\n",
       "<style scoped>\n",
       "    .dataframe tbody tr th:only-of-type {\n",
       "        vertical-align: middle;\n",
       "    }\n",
       "\n",
       "    .dataframe tbody tr th {\n",
       "        vertical-align: top;\n",
       "    }\n",
       "\n",
       "    .dataframe thead th {\n",
       "        text-align: right;\n",
       "    }\n",
       "</style>\n",
       "<table border=\"1\" class=\"dataframe\">\n",
       "  <thead>\n",
       "    <tr style=\"text-align: right;\">\n",
       "      <th></th>\n",
       "      <th>Country</th>\n",
       "      <th>Total Library size</th>\n",
       "      <th>TV shows</th>\n",
       "      <th>Movies</th>\n",
       "      <th>Basic Cost</th>\n",
       "      <th>Standard Cost</th>\n",
       "      <th>Premium Cost</th>\n",
       "    </tr>\n",
       "  </thead>\n",
       "  <tbody>\n",
       "    <tr>\n",
       "      <th>0</th>\n",
       "      <td>Argentina</td>\n",
       "      <td>4760</td>\n",
       "      <td>3154</td>\n",
       "      <td>1606</td>\n",
       "      <td>3.74</td>\n",
       "      <td>6.30</td>\n",
       "      <td>9.26</td>\n",
       "    </tr>\n",
       "    <tr>\n",
       "      <th>1</th>\n",
       "      <td>Austria</td>\n",
       "      <td>5640</td>\n",
       "      <td>3779</td>\n",
       "      <td>1861</td>\n",
       "      <td>9.03</td>\n",
       "      <td>14.67</td>\n",
       "      <td>20.32</td>\n",
       "    </tr>\n",
       "    <tr>\n",
       "      <th>2</th>\n",
       "      <td>Bolivia</td>\n",
       "      <td>4991</td>\n",
       "      <td>3155</td>\n",
       "      <td>1836</td>\n",
       "      <td>7.99</td>\n",
       "      <td>10.99</td>\n",
       "      <td>13.99</td>\n",
       "    </tr>\n",
       "  </tbody>\n",
       "</table>\n",
       "</div>"
      ],
      "text/plain": [
       "     Country  Total Library size  TV shows  Movies  Basic Cost  Standard Cost  \\\n",
       "0  Argentina                4760      3154    1606        3.74           6.30   \n",
       "1    Austria                5640      3779    1861        9.03          14.67   \n",
       "2    Bolivia                4991      3155    1836        7.99          10.99   \n",
       "\n",
       "   Premium Cost  \n",
       "0          9.26  \n",
       "1         20.32  \n",
       "2         13.99  "
      ]
     },
     "execution_count": 192,
     "metadata": {},
     "output_type": "execute_result"
    }
   ],
   "source": [
    "# 데이터 가져오기\n",
    "\n",
    "netflix_price_df = pd.read_csv('netflix price in different countries.csv', sep=',')\n",
    "\n",
    "# 컬럼명 변경하기\n",
    "col_names = ['Country', 'Total Library size', 'TV shows', 'Movies', 'Basic Cost', \n",
    "           'Standard Cost', 'Premium Cost' ]\n",
    "netflix_price_df.columns = col_names\n",
    "netflix_price_df.head(3)"
   ]
  },
  {
   "cell_type": "code",
   "execution_count": 193,
   "metadata": {},
   "outputs": [
    {
     "data": {
      "text/html": [
       "<div>\n",
       "<style scoped>\n",
       "    .dataframe tbody tr th:only-of-type {\n",
       "        vertical-align: middle;\n",
       "    }\n",
       "\n",
       "    .dataframe tbody tr th {\n",
       "        vertical-align: top;\n",
       "    }\n",
       "\n",
       "    .dataframe thead th {\n",
       "        text-align: right;\n",
       "    }\n",
       "</style>\n",
       "<table border=\"1\" class=\"dataframe\">\n",
       "  <thead>\n",
       "    <tr style=\"text-align: right;\">\n",
       "      <th></th>\n",
       "      <th>Total Library size</th>\n",
       "      <th>TV shows</th>\n",
       "      <th>Movies</th>\n",
       "      <th>Basic Cost</th>\n",
       "      <th>Standard Cost</th>\n",
       "      <th>Premium Cost</th>\n",
       "    </tr>\n",
       "  </thead>\n",
       "  <tbody>\n",
       "    <tr>\n",
       "      <th>count</th>\n",
       "      <td>65.000000</td>\n",
       "      <td>65.000000</td>\n",
       "      <td>65.000000</td>\n",
       "      <td>65.000000</td>\n",
       "      <td>65.000000</td>\n",
       "      <td>65.000000</td>\n",
       "    </tr>\n",
       "    <tr>\n",
       "      <th>mean</th>\n",
       "      <td>5314.415385</td>\n",
       "      <td>3518.953846</td>\n",
       "      <td>1795.461538</td>\n",
       "      <td>8.368462</td>\n",
       "      <td>11.990000</td>\n",
       "      <td>15.612923</td>\n",
       "    </tr>\n",
       "    <tr>\n",
       "      <th>std</th>\n",
       "      <td>980.322633</td>\n",
       "      <td>723.010556</td>\n",
       "      <td>327.279748</td>\n",
       "      <td>1.937819</td>\n",
       "      <td>2.863979</td>\n",
       "      <td>4.040672</td>\n",
       "    </tr>\n",
       "    <tr>\n",
       "      <th>min</th>\n",
       "      <td>2274.000000</td>\n",
       "      <td>1675.000000</td>\n",
       "      <td>373.000000</td>\n",
       "      <td>1.970000</td>\n",
       "      <td>3.000000</td>\n",
       "      <td>4.020000</td>\n",
       "    </tr>\n",
       "    <tr>\n",
       "      <th>25%</th>\n",
       "      <td>4948.000000</td>\n",
       "      <td>3154.000000</td>\n",
       "      <td>1628.000000</td>\n",
       "      <td>7.990000</td>\n",
       "      <td>10.710000</td>\n",
       "      <td>13.540000</td>\n",
       "    </tr>\n",
       "    <tr>\n",
       "      <th>50%</th>\n",
       "      <td>5195.000000</td>\n",
       "      <td>3512.000000</td>\n",
       "      <td>1841.000000</td>\n",
       "      <td>8.990000</td>\n",
       "      <td>11.490000</td>\n",
       "      <td>14.450000</td>\n",
       "    </tr>\n",
       "    <tr>\n",
       "      <th>75%</th>\n",
       "      <td>5952.000000</td>\n",
       "      <td>3832.000000</td>\n",
       "      <td>1980.000000</td>\n",
       "      <td>9.030000</td>\n",
       "      <td>13.540000</td>\n",
       "      <td>18.060000</td>\n",
       "    </tr>\n",
       "    <tr>\n",
       "      <th>max</th>\n",
       "      <td>7325.000000</td>\n",
       "      <td>5234.000000</td>\n",
       "      <td>2387.000000</td>\n",
       "      <td>12.880000</td>\n",
       "      <td>20.460000</td>\n",
       "      <td>26.960000</td>\n",
       "    </tr>\n",
       "  </tbody>\n",
       "</table>\n",
       "</div>"
      ],
      "text/plain": [
       "       Total Library size     TV shows       Movies  Basic Cost  \\\n",
       "count           65.000000    65.000000    65.000000   65.000000   \n",
       "mean          5314.415385  3518.953846  1795.461538    8.368462   \n",
       "std            980.322633   723.010556   327.279748    1.937819   \n",
       "min           2274.000000  1675.000000   373.000000    1.970000   \n",
       "25%           4948.000000  3154.000000  1628.000000    7.990000   \n",
       "50%           5195.000000  3512.000000  1841.000000    8.990000   \n",
       "75%           5952.000000  3832.000000  1980.000000    9.030000   \n",
       "max           7325.000000  5234.000000  2387.000000   12.880000   \n",
       "\n",
       "       Standard Cost  Premium Cost  \n",
       "count      65.000000     65.000000  \n",
       "mean       11.990000     15.612923  \n",
       "std         2.863979      4.040672  \n",
       "min         3.000000      4.020000  \n",
       "25%        10.710000     13.540000  \n",
       "50%        11.490000     14.450000  \n",
       "75%        13.540000     18.060000  \n",
       "max        20.460000     26.960000  "
      ]
     },
     "execution_count": 193,
     "metadata": {},
     "output_type": "execute_result"
    }
   ],
   "source": [
    "# 넷플릭스 데이터 요약\n",
    "netflix_price_df.describe()"
   ]
  },
  {
   "cell_type": "code",
   "execution_count": 194,
   "metadata": {},
   "outputs": [
    {
     "name": "stdout",
     "output_type": "stream",
     "text": [
      "Basic Cost        8.368462\n",
      "Standard Cost    11.990000\n",
      "Premium Cost     15.612923\n",
      "dtype: float64\n"
     ]
    }
   ],
   "source": [
    "# 등급별 넷플릭스 가격 평균값\n",
    "mean_price = netflix_price_df[['Basic Cost', 'Standard Cost', 'Premium Cost']].mean()\n",
    "print(mean_price)"
   ]
  },
  {
   "cell_type": "code",
   "execution_count": 195,
   "metadata": {},
   "outputs": [],
   "source": [
    "# 한국 등급별 넷플릭스 가격 불러오기\n",
    "korea_price = netflix_price_df[netflix_price_df['Country'] == 'South Korea']\n",
    "korea_basic_price = korea_price.iloc[:,[0, 4]]\n",
    "korea_standard_price = korea_price.iloc[:,[0, 5]]\n",
    "korea_premium_price = korea_price.iloc[:,[0, 6]]"
   ]
  },
  {
   "cell_type": "code",
   "execution_count": 196,
   "metadata": {},
   "outputs": [],
   "source": [
    "# 전체 나라의 등급별 요금 넷플릭스 가격 불러오기\n",
    "netflix_basic_price = netflix_price_df.iloc[:,[0, 4]]\n",
    "netflix_standard_price = netflix_price_df.iloc[:,[0, 5]]\n",
    "netflix_premium_price = netflix_price_df.iloc[:,[0, 6]]\n",
    "\n",
    "\n",
    "# 각 등급별 오름차순으로 가격 정리\n",
    "basic_reverse_sorted = netflix_basic_price.sort_values(by='Basic Cost', ascending=False)\n",
    "standard_reverse_sorted = netflix_standard_price.sort_values(by='Standard Cost', ascending=False)\n",
    "premium_reverse_sorted = netflix_premium_price.sort_values(by='Premium Cost', ascending=False)\n",
    "\n",
    "# # 각 등급별 내림차순으로 가격 정리\n",
    "basic_sorted = netflix_basic_price.sort_values(by='Basic Cost')\n",
    "standard_sorted = netflix_standard_price.sort_values(by='Standard Cost')\n",
    "premium_sorted = netflix_premium_price.sort_values(by='Premium Cost')\n",
    "\n"
   ]
  },
  {
   "cell_type": "code",
   "execution_count": 197,
   "metadata": {},
   "outputs": [
    {
     "name": "stderr",
     "output_type": "stream",
     "text": [
      "C:\\ProgramData\\Anaconda3\\lib\\site-packages\\seaborn\\_decorators.py:36: FutureWarning: Pass the following variables as keyword args: x, y. From version 0.12, the only valid positional argument will be `data`, and passing other arguments without an explicit keyword will result in an error or misinterpretation.\n",
      "  warnings.warn(\n"
     ]
    },
    {
     "data": {
      "text/plain": [
       "[Text(0.5, 0, 'Top Basic Cost ($)'), Text(0, 0.5, 'Country')]"
      ]
     },
     "execution_count": 197,
     "metadata": {},
     "output_type": "execute_result"
    },
    {
     "data": {
      "image/png": "[encoded data removed]",
      "text/plain": [
       "<Figure size 720x360 with 1 Axes>"
      ]
     },
     "metadata": {
      "needs_background": "light"
     },
     "output_type": "display_data"
    }
   ],
   "source": [
    "# 한국을 기준으로 basic등급 넷플릭스 가격 TOP 10과 비교하기\n",
    "plt.figure(figsize = (10, 5))\n",
    "\n",
    "top_10_country_basic = basic_reverse_sorted.iloc[:10, :]\n",
    "top_10_country_basic = top_10_country_basic.append(korea_basic_price, ignore_index=True)\n",
    "top_10_country_basic\n",
    "\n",
    "x = top_10_country_basic.iloc[:,0]\n",
    "y = top_10_country_basic.iloc[:,1]\n",
    "\n",
    "p = sns.barplot(y, x, palette='spring')\n",
    "p.set(xlabel = 'Top Basic Cost ($)', ylabel = 'Country')"
   ]
  },
  {
   "cell_type": "code",
   "execution_count": 198,
   "metadata": {},
   "outputs": [
    {
     "name": "stderr",
     "output_type": "stream",
     "text": [
      "C:\\ProgramData\\Anaconda3\\lib\\site-packages\\seaborn\\_decorators.py:36: FutureWarning: Pass the following variables as keyword args: x, y. From version 0.12, the only valid positional argument will be `data`, and passing other arguments without an explicit keyword will result in an error or misinterpretation.\n",
      "  warnings.warn(\n"
     ]
    },
    {
     "data": {
      "text/plain": [
       "[Text(0.5, 0, 'Bottom Basic Cost ($)'), Text(0, 0.5, 'Country')]"
      ]
     },
     "execution_count": 198,
     "metadata": {},
     "output_type": "execute_result"
    },
    {
     "data": {
      "image/png": "[encoded data removed]",
      "text/plain": [
       "<Figure size 432x288 with 1 Axes>"
      ]
     },
     "metadata": {
      "needs_background": "light"
     },
     "output_type": "display_data"
    }
   ],
   "source": [
    "# 한국을 기준으로 basic등급 넷플릭스 가격 Bottom 10과 비교하기\n",
    "bottom_10_country_basic = basic_sorted.iloc[:10, :]\n",
    "bottom_10_country_basic = bottom_10_country_basic.append(korea_basic_price, ignore_index=True)\n",
    "bottom_10_country_basic\n",
    "\n",
    "x = bottom_10_country_basic.iloc[:,0]\n",
    "y = bottom_10_country_basic.iloc[:,1]\n",
    "\n",
    "p = sns.barplot(y, x, palette='spring')\n",
    "p.set(xlabel = 'Bottom Basic Cost ($)', ylabel = 'Country')"
   ]
  },
  {
   "cell_type": "code",
   "execution_count": 199,
   "metadata": {},
   "outputs": [
    {
     "name": "stderr",
     "output_type": "stream",
     "text": [
      "C:\\ProgramData\\Anaconda3\\lib\\site-packages\\seaborn\\_decorators.py:36: FutureWarning: Pass the following variables as keyword args: x, y. From version 0.12, the only valid positional argument will be `data`, and passing other arguments without an explicit keyword will result in an error or misinterpretation.\n",
      "  warnings.warn(\n"
     ]
    },
    {
     "data": {
      "text/plain": [
       "[Text(0.5, 0, 'Top standard Cost ($)'), Text(0, 0.5, 'Country')]"
      ]
     },
     "execution_count": 199,
     "metadata": {},
     "output_type": "execute_result"
    },
    {
     "data": {
      "image/png": "[encoded data removed]",
      "text/plain": [
       "<Figure size 720x360 with 1 Axes>"
      ]
     },
     "metadata": {
      "needs_background": "light"
     },
     "output_type": "display_data"
    }
   ],
   "source": [
    "# 한국을 기준으로 standard등급 넷플릭스 가격 TOP 10과 비교하기\n",
    "plt.figure(figsize = (10, 5))\n",
    "\n",
    "top_10_country_standard = standard_reverse_sorted.iloc[:10, :]\n",
    "top_10_country_standard = top_10_country_standard.append(korea_standard_price, ignore_index=True)\n",
    "top_10_country_standard\n",
    "\n",
    "x = top_10_country_standard.iloc[:,0]\n",
    "y = top_10_country_standard.iloc[:,1]\n",
    "\n",
    "p = sns.barplot(y, x, palette='summer')\n",
    "p.set(xlabel = 'Top standard Cost ($)', ylabel = 'Country')"
   ]
  },
  {
   "cell_type": "code",
   "execution_count": 200,
   "metadata": {},
   "outputs": [
    {
     "name": "stderr",
     "output_type": "stream",
     "text": [
      "C:\\ProgramData\\Anaconda3\\lib\\site-packages\\seaborn\\_decorators.py:36: FutureWarning: Pass the following variables as keyword args: x, y. From version 0.12, the only valid positional argument will be `data`, and passing other arguments without an explicit keyword will result in an error or misinterpretation.\n",
      "  warnings.warn(\n"
     ]
    },
    {
     "data": {
      "text/plain": [
       "[Text(0.5, 0, 'Bottom standard Cost ($)'), Text(0, 0.5, 'Country')]"
      ]
     },
     "execution_count": 200,
     "metadata": {},
     "output_type": "execute_result"
    },
    {
     "data": {
      "image/png": "[encoded data removed]",
      "text/plain": [
       "<Figure size 432x288 with 1 Axes>"
      ]
     },
     "metadata": {
      "needs_background": "light"
     },
     "output_type": "display_data"
    }
   ],
   "source": [
    "# 한국을 기준으로 standard등급 넷플릭스 가격 Bottom 10과 비교하기\n",
    "bottom_10_country_standard = standard_sorted.iloc[:10, :]\n",
    "bottom_10_country_standard = bottom_10_country_standard.append(korea_standard_price, ignore_index=True)\n",
    "bottom_10_country_standard\n",
    "\n",
    "x = bottom_10_country_standard.iloc[:,0]\n",
    "y = bottom_10_country_standard.iloc[:,1]\n",
    "\n",
    "p = sns.barplot(y, x, palette='summer')\n",
    "p.set(xlabel = 'Bottom standard Cost ($)', ylabel = 'Country')"
   ]
  },
  {
   "cell_type": "code",
   "execution_count": 201,
   "metadata": {},
   "outputs": [
    {
     "name": "stderr",
     "output_type": "stream",
     "text": [
      "C:\\ProgramData\\Anaconda3\\lib\\site-packages\\seaborn\\_decorators.py:36: FutureWarning: Pass the following variables as keyword args: x, y. From version 0.12, the only valid positional argument will be `data`, and passing other arguments without an explicit keyword will result in an error or misinterpretation.\n",
      "  warnings.warn(\n"
     ]
    },
    {
     "data": {
      "text/plain": [
       "[Text(0.5, 0, 'Top premium Cost ($)'), Text(0, 0.5, 'Country')]"
      ]
     },
     "execution_count": 201,
     "metadata": {},
     "output_type": "execute_result"
    },
    {
     "data": {
      "image/png": "[encoded data removed]",
      "text/plain": [
       "<Figure size 720x360 with 1 Axes>"
      ]
     },
     "metadata": {
      "needs_background": "light"
     },
     "output_type": "display_data"
    }
   ],
   "source": [
    "# 한국을 기준으로 premium등급 넷플릭스 가격 TOP 10과 비교하기\n",
    "plt.figure(figsize = (10, 5))\n",
    "\n",
    "top_10_country_premium = premium_reverse_sorted.iloc[:10, :]\n",
    "top_10_country_premium = top_10_country_premium.append(korea_premium_price, ignore_index=True)\n",
    "top_10_country_premium\n",
    "\n",
    "x = top_10_country_premium.iloc[:,0]\n",
    "y = top_10_country_premium.iloc[:,1]\n",
    "\n",
    "p = sns.barplot(y, x, palette='autumn')\n",
    "p.set(xlabel = 'Top premium Cost ($)', ylabel = 'Country')"
   ]
  },
  {
   "cell_type": "code",
   "execution_count": 202,
   "metadata": {},
   "outputs": [
    {
     "name": "stderr",
     "output_type": "stream",
     "text": [
      "C:\\ProgramData\\Anaconda3\\lib\\site-packages\\seaborn\\_decorators.py:36: FutureWarning: Pass the following variables as keyword args: x, y. From version 0.12, the only valid positional argument will be `data`, and passing other arguments without an explicit keyword will result in an error or misinterpretation.\n",
      "  warnings.warn(\n"
     ]
    },
    {
     "data": {
      "text/plain": [
       "[Text(0.5, 0, 'Bottom premium Cost ($)'), Text(0, 0.5, 'Country')]"
      ]
     },
     "execution_count": 202,
     "metadata": {},
     "output_type": "execute_result"
    },
    {
     "data": {
      "image/png": "[encoded data removed]",
      "text/plain": [
       "<Figure size 432x288 with 1 Axes>"
      ]
     },
     "metadata": {
      "needs_background": "light"
     },
     "output_type": "display_data"
    }
   ],
   "source": [
    "# 한국을 기준으로 premium등급 넷플릭스 가격 Bottom 10과 비교하기\n",
    "bottom_10_country_premium = premium_sorted.iloc[:10, :]\n",
    "bottom_10_country_premium = bottom_10_country_premium.append(korea_premium_price, ignore_index=True)\n",
    "bottom_10_country_premium\n",
    "\n",
    "x = bottom_10_country_premium.iloc[:,0]\n",
    "y = bottom_10_country_premium.iloc[:,1]\n",
    "\n",
    "p = sns.barplot(y, x, palette='autumn')\n",
    "p.set(xlabel = 'Bottom premium Cost ($)', ylabel = 'Country')"
   ]
  },
  {
   "cell_type": "code",
   "execution_count": null,
   "metadata": {},
   "outputs": [],
   "source": []
  },
  {
   "cell_type": "code",
   "execution_count": null,
   "metadata": {},
   "outputs": [],
   "source": []
  },
  {
   "cell_type": "code",
   "execution_count": null,
   "metadata": {},
   "outputs": [],
   "source": []
  },
  {
   "cell_type": "code",
   "execution_count": null,
   "metadata": {},
   "outputs": [],
   "source": []
  }
 ],
 "metadata": {
  "kernelspec": {
   "display_name": "Python 3",
   "language": "python",
   "name": "python3"
  },
  "language_info": {
   "codemirror_mode": {
    "name": "ipython",
    "version": 3
   },
   "file_extension": ".py",
   "mimetype": "text/x-python",
   "name": "python",
   "nbconvert_exporter": "python",
   "pygments_lexer": "ipython3",
   "version": "3.8.5"
  }
 },
 "nbformat": 4,
 "nbformat_minor": 4
}
